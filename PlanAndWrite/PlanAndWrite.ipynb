{
 "cells": [
  {
   "cell_type": "code",
   "execution_count": null,
   "metadata": {},
   "outputs": [],
   "source": [
    "import numpy as np\n",
    "import pandas as pd\n",
    "%pip install keras\n",
    "%pip install tensorflow\n",
    "%pip install rake-nltk\n",
    "%pip install -U spacy\n",
    "!python -m spacy download en_core_web_sm"
   ]
  },
  {
   "cell_type": "code",
   "execution_count": null,
   "metadata": {},
   "outputs": [],
   "source": [
    "movies_raw_df = pd.read_csv('s3://sagemaker-studio-716361152964-uifr8hhp3c/archive/wiki_movie_plots_deduped.csv')\n",
    "\n",
    "movies_raw_df.head()"
   ]
  },
  {
   "cell_type": "code",
   "execution_count": null,
   "metadata": {},
   "outputs": [],
   "source": [
    "movies_to_select = ((movies_raw_df['Genre'] == 'horror') &\n",
    "                    (movies_raw_df['Origin/Ethnicity'] == 'American') &\n",
    "                    (movies_raw_df['Release Year'] > 2012))"
   ]
  },
  {
   "cell_type": "code",
   "execution_count": null,
   "metadata": {},
   "outputs": [],
   "source": [
    "horror_df = movies_raw_df[movies_to_select]['Plot']\n",
    "\n",
    "horror_df.head()"
   ]
  },
  {
   "cell_type": "code",
   "execution_count": null,
   "metadata": {},
   "outputs": [],
   "source": [
    "horror_df.shape"
   ]
  },
  {
   "cell_type": "code",
   "execution_count": null,
   "metadata": {},
   "outputs": [],
   "source": [
    "horror_str = horror_df.str.cat(sep=' ')"
   ]
  },
  {
   "cell_type": "code",
   "execution_count": null,
   "metadata": {},
   "outputs": [],
   "source": [
    "import spacy\n",
    "\n",
    "# Load language model. \n",
    "nlp = spacy.load('en_core_web_sm', disable = ['parser', 'tagger', 'ner', 'lemmatizer'])"
   ]
  },
  {
   "cell_type": "code",
   "execution_count": null,
   "metadata": {},
   "outputs": [],
   "source": [
    "def get_tokens(doc_text):\n",
    "    skip_pattern = '\\r\\n \\n\\n \\n\\n\\n!\"-#$%&()--.*+,-./:;<=>?@[\\\\]^_`{|}~\\t\\n\\r '\n",
    "    \n",
    "    tokens = [token.text.lower() for token in nlp(doc_text) if token.text not in skip_pattern]\n",
    "    \n",
    "    return tokens\n",
    "def get_storylines(doc_text):\n",
    "    skip_pattern = '\\r\\n \\n\\n \\n\\n\\n!\"-#$%&()--.*+,-./:;<=>?@[\\\\]^_`{|}~\\t\\n\\r '\n",
    "    \n",
    "    tokens = [token.text.lower() for token in nlp(doc_text) if token.text not in skip_pattern or token.text in \".,\"]\n",
    "    \n",
    "    return tokens"
   ]
  },
  {
   "cell_type": "code",
   "execution_count": null,
   "metadata": {},
   "outputs": [],
   "source": [
    "tokens = get_tokens(horror_str)\n",
    "storytokens = get_storylines(horror_str)"
   ]
  },
  {
   "cell_type": "code",
   "execution_count": null,
   "metadata": {},
   "outputs": [],
   "source": [
    "tokens[0:9]"
   ]
  },
  {
   "cell_type": "code",
   "execution_count": null,
   "metadata": {},
   "outputs": [],
   "source": [
    "storytokens[0:25]"
   ]
  },
  {
   "cell_type": "code",
   "execution_count": null,
   "metadata": {},
   "outputs": [],
   "source": [
    "len(tokens)"
   ]
  },
  {
   "cell_type": "code",
   "execution_count": null,
   "metadata": {},
   "outputs": [],
   "source": [
    "len(storytokens)"
   ]
  },
  {
   "cell_type": "code",
   "execution_count": null,
   "metadata": {},
   "outputs": [],
   "source": [
    "len_0 = 25\n",
    "\n",
    "tokens[0:len_0]"
   ]
  },
  {
   "cell_type": "code",
   "execution_count": null,
   "metadata": {},
   "outputs": [],
   "source": [
    "tokens[len_0:len_0 + 1]"
   ]
  },
  {
   "cell_type": "code",
   "execution_count": null,
   "metadata": {},
   "outputs": [],
   "source": [
    "train_len = len_0 + 1\n",
    "\n",
    "text_sequences = []\n",
    "story_sequence = []\n",
    "\n",
    "for i in range(train_len, len(tokens)):\n",
    "    # Construct sequence.\n",
    "    seq = tokens[i - train_len: i]\n",
    "    # Append.\n",
    "    text_sequences.append(seq)\n",
    "sentence = \"\"\n",
    "for i in storytokens:\n",
    "    sentence += i\n",
    "    sentence += \" \"\n",
    "    if i == \".\":\n",
    "        story_sequence.append(sentence)\n",
    "        sentence = \"\""
   ]
  },
  {
   "cell_type": "code",
   "execution_count": null,
   "metadata": {},
   "outputs": [],
   "source": [
    "' '.join(text_sequences[0])"
   ]
  },
  {
   "cell_type": "code",
   "execution_count": null,
   "metadata": {},
   "outputs": [],
   "source": [
    "story_sequence[1]"
   ]
  },
  {
   "cell_type": "code",
   "execution_count": null,
   "metadata": {},
   "outputs": [],
   "source": [
    "len(text_sequences[0])"
   ]
  },
  {
   "cell_type": "code",
   "execution_count": null,
   "metadata": {},
   "outputs": [],
   "source": [
    "for i in range(0, 5):\n",
    "    print(' '.join(text_sequences[i]))\n",
    "    print(story_sequence[i])\n",
    "    print('-----')"
   ]
  },
  {
   "cell_type": "code",
   "execution_count": null,
   "metadata": {},
   "outputs": [],
   "source": [
    "from rake_nltk import Rake\n",
    "import nltk\n",
    "nltk.download('stopwords')\n",
    "nltk.download('punkt')\n",
    "\n",
    "r = Rake()\n",
    "\n",
    "ranked_list = []\n",
    "\n",
    "for sentence in story_sequence:\n",
    "    r.extract_keywords_from_text(sentence)\n",
    "    ranked_list.append(r.get_ranked_phrases()[0])"
   ]
  },
  {
   "cell_type": "code",
   "execution_count": null,
   "metadata": {},
   "outputs": [],
   "source": [
    "ranked_list[0]"
   ]
  },
  {
   "cell_type": "code",
   "execution_count": null,
   "metadata": {},
   "outputs": [],
   "source": [
    "from tensorflow.keras.preprocessing.text import Tokenizer\n",
    "\n",
    "tokenizer = Tokenizer()\n",
    "tokenizerStory = Tokenizer()\n",
    "\n",
    "tokenizer.fit_on_texts(text_sequences)\n",
    "tokenizerStory.fit_on_texts(ranked_list)"
   ]
  },
  {
   "cell_type": "code",
   "execution_count": null,
   "metadata": {},
   "outputs": [],
   "source": [
    "sequences = tokenizer.texts_to_sequences(text_sequences)\n",
    "storysequences = tokenizerStory.texts_to_sequences(ranked_list)"
   ]
  },
  {
   "cell_type": "code",
   "execution_count": null,
   "metadata": {},
   "outputs": [],
   "source": [
    "sequences[0]"
   ]
  },
  {
   "cell_type": "code",
   "execution_count": null,
   "metadata": {},
   "outputs": [],
   "source": [
    "tokenizer.index_word[6]"
   ]
  },
  {
   "cell_type": "code",
   "execution_count": null,
   "metadata": {},
   "outputs": [],
   "source": [
    "storysequences[0:9]"
   ]
  },
  {
   "cell_type": "code",
   "execution_count": null,
   "metadata": {},
   "outputs": [],
   "source": [
    "flattened_story = [x for sentence in storysequences for x in sentence]\n",
    "storysequences = flattened_story"
   ]
  },
  {
   "cell_type": "code",
   "execution_count": null,
   "metadata": {},
   "outputs": [],
   "source": [
    "storysequences[0:25]"
   ]
  },
  {
   "cell_type": "code",
   "execution_count": null,
   "metadata": {},
   "outputs": [],
   "source": [
    "storyseqlength = 5\n",
    "broken_up = []\n",
    "for i in range(storyseqlength, len(storysequences)):\n",
    "    # Construct sequence.\n",
    "    seq = storysequences[i - storyseqlength: i]\n",
    "    # Append.\n",
    "    broken_up.append(seq)"
   ]
  },
  {
   "cell_type": "code",
   "execution_count": null,
   "metadata": {},
   "outputs": [],
   "source": [
    "for i in range(0, 5):\n",
    "    print(broken_up[i])"
   ]
  },
  {
   "cell_type": "code",
   "execution_count": null,
   "metadata": {},
   "outputs": [],
   "source": [
    "storysequences = broken_up"
   ]
  },
  {
   "cell_type": "code",
   "execution_count": null,
   "metadata": {},
   "outputs": [],
   "source": [
    "tokenizerStory.index_word[570]"
   ]
  },
  {
   "cell_type": "code",
   "execution_count": null,
   "metadata": {},
   "outputs": [],
   "source": [
    "vocabulary_size = len(tokenizer.word_counts)\n",
    "\n",
    "vocabulary_size"
   ]
  },
  {
   "cell_type": "code",
   "execution_count": null,
   "metadata": {},
   "outputs": [],
   "source": [
    "story_vocabulary_size = len(tokenizerStory.word_counts)\n",
    "\n",
    "story_vocabulary_size"
   ]
  },
  {
   "cell_type": "code",
   "execution_count": null,
   "metadata": {},
   "outputs": [],
   "source": [
    "sequences = np.array(sequences)"
   ]
  },
  {
   "cell_type": "code",
   "execution_count": null,
   "metadata": {},
   "outputs": [],
   "source": [
    "sequences"
   ]
  },
  {
   "cell_type": "code",
   "execution_count": null,
   "metadata": {},
   "outputs": [],
   "source": [
    "sequences.shape"
   ]
  },
  {
   "cell_type": "code",
   "execution_count": null,
   "metadata": {},
   "outputs": [],
   "source": [
    "storysequences = np.array(storysequences)"
   ]
  },
  {
   "cell_type": "code",
   "execution_count": null,
   "metadata": {},
   "outputs": [],
   "source": [
    "storysequences"
   ]
  },
  {
   "cell_type": "code",
   "execution_count": null,
   "metadata": {},
   "outputs": [],
   "source": [
    "storysequences.shape"
   ]
  },
  {
   "cell_type": "code",
   "execution_count": null,
   "metadata": {},
   "outputs": [],
   "source": [
    "from tensorflow.keras.utils import to_categorical\n",
    "\n",
    "# select all but last word indices.\n",
    "X = sequences[:, :-1]\n",
    "X"
   ]
  },
  {
   "cell_type": "code",
   "execution_count": null,
   "metadata": {},
   "outputs": [],
   "source": [
    "X.shape"
   ]
  },
  {
   "cell_type": "code",
   "execution_count": null,
   "metadata": {},
   "outputs": [],
   "source": [
    "seq_len = X.shape[1]"
   ]
  },
  {
   "cell_type": "code",
   "execution_count": null,
   "metadata": {},
   "outputs": [],
   "source": [
    "# select all but last word indices.\n",
    "Xstory = storysequences[:, :-1]\n",
    "Xstory"
   ]
  },
  {
   "cell_type": "code",
   "execution_count": null,
   "metadata": {},
   "outputs": [],
   "source": [
    "Xstory.shape"
   ]
  },
  {
   "cell_type": "code",
   "execution_count": null,
   "metadata": {},
   "outputs": [],
   "source": [
    "story_seq_len = X.shape[1]"
   ]
  },
  {
   "cell_type": "code",
   "execution_count": null,
   "metadata": {},
   "outputs": [],
   "source": [
    "ystory = storysequences[:, -1]\n",
    "ystory"
   ]
  },
  {
   "cell_type": "code",
   "execution_count": null,
   "metadata": {},
   "outputs": [],
   "source": [
    "ystory = to_categorical(ystory, num_classes=(story_vocabulary_size + 1))\n",
    "ystory"
   ]
  },
  {
   "cell_type": "code",
   "execution_count": null,
   "metadata": {},
   "outputs": [],
   "source": [
    "y = sequences[:, -1]\n",
    "y"
   ]
  },
  {
   "cell_type": "code",
   "execution_count": null,
   "metadata": {},
   "outputs": [],
   "source": [
    "y = to_categorical(y, num_classes=(vocabulary_size + 1))\n",
    "y"
   ]
  },
  {
   "cell_type": "code",
   "execution_count": null,
   "metadata": {},
   "outputs": [],
   "source": [
    "from tensorflow.keras.models import Sequential\n",
    "from tensorflow.keras.layers import Dense, LSTM, Embedding, Bidirectional, LayerNormalization\n",
    "\n",
    "def create_storyline_model(story_vocabulary_size, storyseqlength):\n",
    "    \n",
    "    model = Sequential()\n",
    "    \n",
    "    model.add(Embedding(input_dim=story_vocabulary_size, \n",
    "                        output_dim=storyseqlength, \n",
    "                        input_length=storyseqlength))\n",
    "    \n",
    "    model.add(Bidirectional(LSTM(units=50, recurrent_dropout=0.1, return_sequences=True)))\n",
    "    \n",
    "    model.add(LayerNormalization())\n",
    "    \n",
    "    model.add(LSTM(units=50, recurrent_dropout=0.1))\n",
    "\n",
    "    model.add(Dense(units=50, activation='relu'))\n",
    "\n",
    "    model.add(Dense(units=story_vocabulary_size, activation='softmax'))\n",
    "    \n",
    "    model.compile(loss='categorical_crossentropy', \n",
    "                  optimizer='adam', \n",
    "                  metrics=['accuracy'])\n",
    "    \n",
    "    model.summary()\n",
    "    \n",
    "    return model"
   ]
  },
  {
   "cell_type": "code",
   "execution_count": null,
   "metadata": {},
   "outputs": [],
   "source": [
    "import tensorflow as tf\n",
    "def create_model(vocabulary_size, seq_len):\n",
    "    \n",
    "    model = Sequential()\n",
    "    \n",
    "    model.add(Embedding(input_dim=vocabulary_size, \n",
    "                        output_dim=seq_len, \n",
    "                        input_length=seq_len))\n",
    "    \n",
    "    model.add(Bidirectional(LSTM(units=100, recurrent_dropout=0.1, return_sequences=True)))\n",
    "    \n",
    "    model.add(LayerNormalization())\n",
    "    \n",
    "    model.add(Bidirectional(LSTM(units=100, recurrent_dropout=0.1)))\n",
    "    \n",
    "    model.add(LayerNormalization())\n",
    "    \n",
    "    model.add(Dense(units=100, activation='relu'))\n",
    "\n",
    "    model.add(Dense(units=vocabulary_size, activation='softmax'))\n",
    "    \n",
    "    model.compile(loss='categorical_crossentropy', \n",
    "                  optimizer='adam', \n",
    "                  metrics=['accuracy'])\n",
    "    \n",
    "    model.summary()\n",
    "    \n",
    "    return model"
   ]
  },
  {
   "cell_type": "code",
   "execution_count": null,
   "metadata": {},
   "outputs": [],
   "source": [
    "model = create_model(vocabulary_size=(vocabulary_size + 1), seq_len=seq_len)"
   ]
  },
  {
   "cell_type": "code",
   "execution_count": null,
   "metadata": {},
   "outputs": [],
   "source": [
    "story_model = create_storyline_model(story_vocabulary_size=(story_vocabulary_size+1), storyseqlength=storyseqlength-1)"
   ]
  },
  {
   "cell_type": "code",
   "execution_count": null,
   "metadata": {},
   "outputs": [],
   "source": [
    "story_model.fit(x=Xstory, y=ystory, batch_size=28, epochs=40, verbose=1)"
   ]
  },
  {
   "cell_type": "code",
   "execution_count": null,
   "metadata": {},
   "outputs": [],
   "source": [
    "model.fit(x=X, y=y, batch_size=64, epochs=40, verbose=1)"
   ]
  },
  {
   "cell_type": "code",
   "execution_count": null,
   "metadata": {},
   "outputs": [],
   "source": [
    "from pickle import dump\n",
    "\n",
    "dump(tokenizer, open('tokenizer', 'wb'))\n",
    "dump(tokenizerStory, open('tokenizerStory', 'wb'))"
   ]
  },
  {
   "cell_type": "code",
   "execution_count": null,
   "metadata": {},
   "outputs": [],
   "source": [
    "model.save('model2.h5')\n",
    "story_model.save('storylinemodel.h5')"
   ]
  },
  {
   "cell_type": "code",
   "execution_count": null,
   "metadata": {},
   "outputs": [],
   "source": [
    "from tensorflow.keras.models import load_model\n",
    "\n",
    "model = load_model('model2.h5')\n",
    "story_model = load_model('storylinemodel.h5')"
   ]
  },
  {
   "cell_type": "code",
   "execution_count": null,
   "metadata": {},
   "outputs": [],
   "source": [
    "from tensorflow.keras.preprocessing.sequence import pad_sequences \n",
    "\n",
    "def generate_text(model, storyline, tokenizer, storytokenizer, seq_len, storyseq, seed_text, num_gen_words, story_length):\n",
    "    # List to store the generated words. \n",
    "    output_text = []\n",
    "    # Set seed_text as input_text. \n",
    "    storyline = seed_text\n",
    "    \n",
    "    for i in range(story_length):\n",
    "        encoded_text = storytokenizer.texts_to_sequences([storyline])[0]\n",
    "        pad_encoded = pad_sequences([encoded_text], maxlen=storyseq, truncating='pre')\n",
    "        predict_story = story_model.predict(pad_encoded)\n",
    "        pred_word_ind = np.argmax(predict_story,axis=1)\n",
    "        # Convert from numeric to word.\n",
    "        pred_word = storytokenizer.index_word[pred_word_ind.item(0)]\n",
    "        # Attach predicted word. \n",
    "        storyline += ' ' + pred_word\n",
    "        \n",
    "    input_text = storyline\n",
    "    \n",
    "    for i in range(num_gen_words):\n",
    "        # Encode input text. \n",
    "        encoded_text = tokenizer.texts_to_sequences([input_text])[0]\n",
    "        # Add if the input tesxt does not have length len_0.\n",
    "        pad_encoded = pad_sequences([encoded_text], maxlen=seq_len, truncating='pre')\n",
    "        # Do the prediction. Here we automatically choose the word with highest probability.\n",
    "        predict_x = model.predict(pad_encoded) \n",
    "        pred_word_ind = np.argmax(predict_x,axis=1)\n",
    "        # Convert from numeric to word.\n",
    "        pred_word = tokenizer.index_word[pred_word_ind.item(0)]\n",
    "        # Attach predicted word. \n",
    "        input_text += ' ' + pred_word\n",
    "        # Append new word to the list. \n",
    "        output_text.append(pred_word)\n",
    "        \n",
    "    return ' '.join(output_text)"
   ]
  },
  {
   "cell_type": "markdown",
   "metadata": {},
   "source": [
    "seed_text = sample_text[:190]\n",
    "print(seed_text)"
   ]
  },
  {
   "cell_type": "code",
   "execution_count": null,
   "metadata": {},
   "outputs": [],
   "source": [
    "seed_text = \"The most interesting man\"\n",
    "print(seed_text)"
   ]
  },
  {
   "cell_type": "code",
   "execution_count": null,
   "metadata": {},
   "outputs": [],
   "source": [
    "generated_text = generate_text(model=model,\n",
    "                               storyline=story_model,\n",
    "                               tokenizer=tokenizer,\n",
    "                               storytokenizer=tokenizerStory,\n",
    "                               seq_len=seq_len,\n",
    "                               storyseq=storyseqlength-1,\n",
    "                               seed_text=seed_text, \n",
    "                               num_gen_words=90,\n",
    "                               story_length=10)\n",
    "\n",
    "print(generated_text + '...')"
   ]
  }
 ],
 "metadata": {
  "instance_type": "ml.t3.medium",
  "kernelspec": {
   "display_name": "Python 3 (TensorFlow 2.3 Python 3.7 GPU Optimized)",
   "language": "python",
   "name": "python3__SAGEMAKER_INTERNAL__arn:aws:sagemaker:us-east-2:429704687514:image/tensorflow-2.3-gpu-py37-cu110-ubuntu18.04-v3"
  },
  "language_info": {
   "codemirror_mode": {
    "name": "ipython",
    "version": 3
   },
   "file_extension": ".py",
   "mimetype": "text/x-python",
   "name": "python",
   "nbconvert_exporter": "python",
   "pygments_lexer": "ipython3",
   "version": "3.7.10"
  }
 },
 "nbformat": 4,
 "nbformat_minor": 4
}
